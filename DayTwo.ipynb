{
 "cells": [
  {
   "cell_type": "code",
   "execution_count": 5,
   "metadata": {},
   "outputs": [
    {
     "name": "stdout",
     "output_type": "stream",
     "text": [
      "[[2, 4, 10], [6, 10]]\n"
     ]
    }
   ],
   "source": [
    "## Find the subset of numbers that add upto 16\n",
    "\n",
    "## approach to this problem is that \n",
    "## first find subsets of given number and test weather the subset add upto 16\n",
    "\n",
    "def sum_to_16(alist):\n",
    "    result = []\n",
    "    for i in range(1 << len(alist)):\n",
    "        r = []\n",
    "        for j in range(len(alist)):\n",
    "            if (i & (1 << j)):\n",
    "                r.append(alist[j])\n",
    "        if sum(r) == 16:\n",
    "            result.append(r)\n",
    "    return result\n",
    "\n",
    "\n",
    "def main():\n",
    "    alist = [2, 4, 6, 10]\n",
    "    result = sum_to_16(alist)\n",
    "    print(result)\n",
    "\n",
    "main()"
   ]
  },
  {
   "cell_type": "code",
   "execution_count": 9,
   "metadata": {},
   "outputs": [
    {
     "name": "stdout",
     "output_type": "stream",
     "text": [
      "Node(7) Node(2) Node(2) Node(7)\n",
      "Node(9) Node(6) Node(6) Node(9)\n"
     ]
    }
   ],
   "source": [
    "# inverting a binary tree or creating a mirror image of binary tree\n",
    "from copy import deepcopy\n",
    "\n",
    "class Node:\n",
    "    def __init__(self, value):\n",
    "        self.value = value\n",
    "        self.left = None\n",
    "        self.right = None\n",
    "    \n",
    "    def __repr__(self):\n",
    "        return \"Node({})\".format(self.value)\n",
    "\n",
    "def invert_tree(_node):\n",
    "    # deep copy the tree before inverting\n",
    "    g = deepcopy(_node)\n",
    "    def _invert(node):\n",
    "        if node.left and node.right:\n",
    "        # that means we can invert the whole thing\n",
    "            node.left, node.right = node.right, node.left\n",
    "            _invert(node.left)\n",
    "            _invert(node.right)\n",
    "        return node\n",
    "    return _invert(g)\n",
    "\n",
    "def main():\n",
    "    n = Node(4)\n",
    "    n.left = Node(2)\n",
    "    n.right= Node(7)\n",
    "    n.left.left = Node(1)\n",
    "    n.left.right = Node(3)\n",
    "    n.right.left = Node(6)\n",
    "    n.right.right = Node(9)\n",
    "    \n",
    "    # now invert\n",
    "    g = invert_tree(n)\n",
    "    print(g.left, g.right, n.left, n.right)\n",
    "    print(g.left.left, g.left.right, n.right.left, n.right.right)\n",
    "main()\n",
    "\n"
   ]
  },
  {
   "cell_type": "markdown",
   "metadata": {},
   "source": [
    "## LEET CODE 1\n"
   ]
  },
  {
   "cell_type": "raw",
   "metadata": {},
   "source": [
    "Given an array of integers, return indices of the two numbers such that they add up to a specific target.\n",
    "\n",
    "You may assume that each input would have exactly one solution, and you may not use the same element twice.\n",
    "\n",
    "Example:\n",
    "Given nums = [2, 7, 11, 15], target = 9,\n",
    "\n",
    "Because nums[0] + nums[1] = 2 + 7 = 9,\n",
    "return [0, 1].\n"
   ]
  },
  {
   "cell_type": "code",
   "execution_count": 19,
   "metadata": {},
   "outputs": [
    {
     "name": "stdout",
     "output_type": "stream",
     "text": [
      "[3, 4]\n"
     ]
    }
   ],
   "source": [
    "# solution\n",
    "\n",
    "# naive approach using O(n)\n",
    "\n",
    "def func(alist, target):\n",
    "    for i, _ in enumerate(alist):\n",
    "        for j, value in enumerate(alist):\n",
    "            if i != j and alist[i] + alist[j] == target:\n",
    "                return [i, j]\n",
    "                # now we have two pairs\n",
    "    return False\n",
    "\n",
    "def main():\n",
    "    alist = [1, 7, 3, 4,]\n",
    "    target = 10\n",
    "    result = func(alist, 10)\n",
    "    print(result)\n",
    "    \n",
    "# a better O(n approach)\n",
    "\n",
    "# using the dictionary to keep track of number and their indexes\n",
    "\n",
    "def _func(alist, target):\n",
    "    if not alist:\n",
    "        raise ValueError('Please provide a valid list of integer')\n",
    "    # now we have a valid alist then we can do\n",
    "    d = {}\n",
    "    for index, value in enumerate(alist):\n",
    "        if target - value in d:\n",
    "            return [d[target-value], index]\n",
    "        else:\n",
    "            d[value] = index\n",
    "\n",
    "def _main():\n",
    "    alist = [4,5,6,7, 8]\n",
    "    target = 15\n",
    "    result = _func(alist, target)\n",
    "    print(result)\n",
    "_main()"
   ]
  },
  {
   "cell_type": "markdown",
   "metadata": {},
   "source": [
    "Given a string, find the length of the longest substring without repeating characters.\n",
    "\n",
    "Examples:\n",
    "\n",
    "Given \"abcabcbb\", the answer is \"abc\", which the length is 3.\n",
    "\n",
    "Given \"bbbbb\", the answer is \"b\", with the length of 1.\n",
    "\n",
    "Given \"pwwkew\", the answer is \"wke\", with the length of 3. Note that the answer must be a substring, \"pwke\" is a subsequence and not a substring."
   ]
  },
  {
   "cell_type": "code",
   "execution_count": 21,
   "metadata": {
    "collapsed": true
   },
   "outputs": [],
   "source": [
    "# BigO(n) time complexity\n",
    "\n",
    "\n",
    "class Solution:\n",
    "    def lengthOfLongestSubstring(self, s):\n",
    "        \"\"\"\n",
    "        :type s: str\n",
    "        :rtype: int\n",
    "        \"\"\"\n",
    "        # coding: utf-8\n",
    "        last, result, start = {}, 0, 0\n",
    "        for index, char in enumerate(s):\n",
    "            if char not in last or last[char] < start:\n",
    "                result = max(result, index - st + 1)\n",
    "            else:\n",
    "                #change the start position\n",
    "                start = last[v] + 1\n",
    "            last[v] = index\n",
    "        return result"
   ]
  },
  {
   "cell_type": "markdown",
   "metadata": {},
   "source": [
    "Given a string s, find the longest palindromic substring in s. You may assume that the maximum length of s is 1000.\n",
    "\n",
    "Example:\n",
    "\n",
    "Input: \"babad\"\n",
    "\n",
    "Output: \"bab\"\n",
    "\n",
    "Note: \"aba\" is also a valid answer.\n",
    " \n",
    "\n",
    "Example:\n",
    "\n",
    "Input: \"cbbd\"\n",
    "\n",
    "Output: \"bb\"\n"
   ]
  },
  {
   "cell_type": "code",
   "execution_count": 22,
   "metadata": {
    "collapsed": true
   },
   "outputs": [],
   "source": [
    "class Solution:\n",
    "    def longestPalindrome(self, a):\n",
    "        \"\"\"\n",
    "        :type s: str\n",
    "        :rtype: str\n",
    "        \"\"\"\n",
    "        start_length = len(a)\n",
    "        while start_length > 0:\n",
    "\n",
    "            # that means atleast two\n",
    "            start = 0\n",
    "            end = start_length\n",
    "            while end <= len(a):\n",
    "                chunk = a[start: end]\n",
    "\n",
    "                if list(chunk) == list(reversed(chunk)):\n",
    "                    #that means we have longest palli\n",
    "                    return chunk\n",
    "                else:\n",
    "                    start += 1\n",
    "                    end += 1\n",
    "            start_length -= 1\n",
    "            "
   ]
  }
 ],
 "metadata": {
  "kernelspec": {
   "display_name": "Python 3",
   "language": "python",
   "name": "python3"
  },
  "language_info": {
   "codemirror_mode": {
    "name": "ipython",
    "version": 3
   },
   "file_extension": ".py",
   "mimetype": "text/x-python",
   "name": "python",
   "nbconvert_exporter": "python",
   "pygments_lexer": "ipython3",
   "version": "3.6.3"
  }
 },
 "nbformat": 4,
 "nbformat_minor": 2
}
