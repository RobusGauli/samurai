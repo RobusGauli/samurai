{
 "cells": [
  {
   "cell_type": "code",
   "execution_count": 5,
   "metadata": {},
   "outputs": [
    {
     "name": "stdout",
     "output_type": "stream",
     "text": [
      "[[2, 4, 10], [6, 10]]\n"
     ]
    }
   ],
   "source": [
    "## Find the subset of numbers that add upto 16\n",
    "\n",
    "## approach to this problem is that \n",
    "## first find subsets of given number and test weather the subset add upto 16\n",
    "\n",
    "def sum_to_16(alist):\n",
    "    result = []\n",
    "    for i in range(1 << len(alist)):\n",
    "        r = []\n",
    "        for j in range(len(alist)):\n",
    "            if (i & (1 << j)):\n",
    "                r.append(alist[j])\n",
    "        if sum(r) == 16:\n",
    "            result.append(r)\n",
    "    return result\n",
    "\n",
    "\n",
    "def main():\n",
    "    alist = [2, 4, 6, 10]\n",
    "    result = sum_to_16(alist)\n",
    "    print(result)\n",
    "\n",
    "main()"
   ]
  },
  {
   "cell_type": "code",
   "execution_count": 9,
   "metadata": {},
   "outputs": [
    {
     "name": "stdout",
     "output_type": "stream",
     "text": [
      "Node(7) Node(2) Node(2) Node(7)\n",
      "Node(9) Node(6) Node(6) Node(9)\n"
     ]
    }
   ],
   "source": [
    "# inverting a binary tree or creating a mirror image of binary tree\n",
    "from copy import deepcopy\n",
    "\n",
    "class Node:\n",
    "    def __init__(self, value):\n",
    "        self.value = value\n",
    "        self.left = None\n",
    "        self.right = None\n",
    "    \n",
    "    def __repr__(self):\n",
    "        return \"Node({})\".format(self.value)\n",
    "\n",
    "def invert_tree(_node):\n",
    "    # deep copy the tree before inverting\n",
    "    g = deepcopy(_node)\n",
    "    def _invert(node):\n",
    "        if node.left and node.right:\n",
    "        # that means we can invert the whole thing\n",
    "            node.left, node.right = node.right, node.left\n",
    "            _invert(node.left)\n",
    "            _invert(node.right)\n",
    "        return node\n",
    "    return _invert(g)\n",
    "\n",
    "def main():\n",
    "    n = Node(4)\n",
    "    n.left = Node(2)\n",
    "    n.right= Node(7)\n",
    "    n.left.left = Node(1)\n",
    "    n.left.right = Node(3)\n",
    "    n.right.left = Node(6)\n",
    "    n.right.right = Node(9)\n",
    "    \n",
    "    # now invert\n",
    "    g = invert_tree(n)\n",
    "    print(g.left, g.right, n.left, n.right)\n",
    "    print(g.left.left, g.left.right, n.right.left, n.right.right)\n",
    "main()\n",
    "\n"
   ]
  }
 ],
 "metadata": {
  "kernelspec": {
   "display_name": "Python 3",
   "language": "python",
   "name": "python3"
  },
  "language_info": {
   "codemirror_mode": {
    "name": "ipython",
    "version": 3
   },
   "file_extension": ".py",
   "mimetype": "text/x-python",
   "name": "python",
   "nbconvert_exporter": "python",
   "pygments_lexer": "ipython3",
   "version": "3.6.3"
  }
 },
 "nbformat": 4,
 "nbformat_minor": 2
}
