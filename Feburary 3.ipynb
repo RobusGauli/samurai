{
 "cells": [
  {
   "cell_type": "code",
   "execution_count": 66,
   "metadata": {},
   "outputs": [
    {
     "name": "stdout",
     "output_type": "stream",
     "text": [
      "found 7\n"
     ]
    }
   ],
   "source": [
    "# binary search using recursive technique\n",
    "# also find the correct index of the found answer ???\n",
    "import random\n",
    "import math\n",
    "\n",
    "alist = list(map(random.randrange, range(2, 25)))\n",
    "# sort the thing\n",
    "alist.sort()\n",
    "\n",
    "def search(alist, target, i):\n",
    "    \n",
    "    if not alist:\n",
    "        return False, None\n",
    "    _index = int(len(alist) / 2)\n",
    "    \n",
    "    #t += _index\n",
    "    #target_index = _index\n",
    "    #print(_index, alist, alist[_index])\n",
    "    if alist[_index] == target:\n",
    "        i += (_index + 1)\n",
    "        return True, i\n",
    "    if target < alist[_index]:\n",
    "        return search(alist[: _index], target, i)\n",
    "    elif target > alist[_index]:\n",
    "        i += (_index + 1)\n",
    "        return search(alist[_index + 1: ], target, i)\n",
    "    return False, None\n",
    "    \n",
    "def main():\n",
    "    alist = [4,7,8, 9]\n",
    "    # print(len(alist))\n",
    "    result, index = search(alist, 7, 0)\n",
    "    print('found', alist[index-1]) if result else print('not found')\n",
    "\n",
    "    \n",
    "main()\n",
    "    \n",
    "    \n"
   ]
  },
  {
   "cell_type": "code",
   "execution_count": 4,
   "metadata": {},
   "outputs": [],
   "source": [
    "import os\n",
    "import collections\n",
    "import sys\n",
    "from os import path\n",
    "from sqlalchemy import Column, create_engine\n",
    "from sqlalchemy.ext.declarative import declarative_base\n",
    "\n"
   ]
  },
  {
   "cell_type": "code",
   "execution_count": null,
   "metadata": {
    "collapsed": true
   },
   "outputs": [],
   "source": []
  }
 ],
 "metadata": {
  "kernelspec": {
   "display_name": "Python 3",
   "language": "python",
   "name": "python3"
  },
  "language_info": {
   "codemirror_mode": {
    "name": "ipython",
    "version": 3
   },
   "file_extension": ".py",
   "mimetype": "text/x-python",
   "name": "python",
   "nbconvert_exporter": "python",
   "pygments_lexer": "ipython3",
   "version": "3.6.3"
  }
 },
 "nbformat": 4,
 "nbformat_minor": 2
}
