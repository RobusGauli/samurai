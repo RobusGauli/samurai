{
 "cells": [
  {
   "cell_type": "code",
   "execution_count": 90,
   "metadata": {},
   "outputs": [
    {
     "name": "stdout",
     "output_type": "stream",
     "text": [
      "6 [4, 7, 8, 12, 14, 16, 17, 18, 22, 24, 27, 29, 299] 17\n",
      "3 [4, 7, 8, 12, 14, 16] 12\n",
      "found 3\n",
      "0 7\n"
     ]
    }
   ],
   "source": [
    "# binary search using recursive technique\n",
    "import random\n",
    "import math\n",
    "\n",
    "alist = list(map(random.randrange, range(2, 25)))\n",
    "# sort the thing\n",
    "alist.sort()\n",
    "\n",
    "def search(alist, target, t):\n",
    "    \n",
    "    if not alist:\n",
    "        return None, True\n",
    "    _index = int(len(alist) / 2)\n",
    "    #t += _index\n",
    "    #target_index = _index\n",
    "    print(_index, alist, alist[_index])\n",
    "    if alist[_index] == target:\n",
    "        return _index, False, t \n",
    "    if target < alist[_index]:\n",
    "        return search(alist[: _index], target, t)\n",
    "    elif target > alist[_index]:\n",
    "        t += _index\n",
    "        return search(alist[_index + 1:], target, t)\n",
    "    return None, True\n",
    "    \n",
    "def main():\n",
    "    alist = [4,7,8, 12, 14, 16, 17, 18, 22, 24, 27, 29, 299]\n",
    "    \n",
    "    val, err, h = search(alist,12, 0)\n",
    "    \n",
    "    if err:\n",
    "        print('not found')\n",
    "    else:\n",
    "        print('found', val)\n",
    "        print(h, alist[h+1])\n",
    "        \n",
    "main()\n",
    "    \n",
    "    \n"
   ]
  },
  {
   "cell_type": "code",
   "execution_count": null,
   "metadata": {
    "collapsed": true
   },
   "outputs": [],
   "source": []
  }
 ],
 "metadata": {
  "kernelspec": {
   "display_name": "Python 3",
   "language": "python",
   "name": "python3"
  },
  "language_info": {
   "codemirror_mode": {
    "name": "ipython",
    "version": 3
   },
   "file_extension": ".py",
   "mimetype": "text/x-python",
   "name": "python",
   "nbconvert_exporter": "python",
   "pygments_lexer": "ipython3",
   "version": "3.6.3"
  }
 },
 "nbformat": 4,
 "nbformat_minor": 2
}
