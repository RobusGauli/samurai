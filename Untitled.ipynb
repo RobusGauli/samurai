{
 "cells": [
  {
   "cell_type": "code",
   "execution_count": 6,
   "metadata": {},
   "outputs": [
    {
     "name": "stdout",
     "output_type": "stream",
     "text": [
      "Total negative numner  4\n"
     ]
    }
   ],
   "source": [
    "# a simple algorithm to count the negative numbers in rows and columns\n",
    "# wise sorted matrix\n",
    "# Big O(m + n)\n",
    "\n",
    "mat = [\n",
    "    [-3, -2, 3],\n",
    "    [-1, 2, 2],\n",
    "    [-1, 1, 1]\n",
    "]\n",
    "\n",
    "def count_negative_numbers(mat, rows, cols):\n",
    "    # since it is sorted on both side\n",
    "    # we can do it in O(m +n )\n",
    "    # m number of rows and n being the number of columns\n",
    "    \n",
    "    count = 0\n",
    "    # start with the first row and last column because this is \n",
    "    # highest number in the matrix\n",
    "    current_row = 0\n",
    "    current_col = cols - 1\n",
    "    while current_row <= rows -1 and current_col >= 0:\n",
    "        #take the number\n",
    "        number = mat[current_row][current_col]\n",
    "        \n",
    "        if number < 0:\n",
    "            #that means it is a negative number\n",
    "            count += (current_col + 1)\n",
    "            current_row += 1 # m time\n",
    "        else:\n",
    "            current_col -= 1 # n times\n",
    "    return count\n",
    "\n",
    "\n",
    "\n",
    "def main():\n",
    "    result = count_negative_numbers(mat, 3, 3)\n",
    "    print('Total negative numner ', result)\n",
    "\n",
    "main()\n"
   ]
  },
  {
   "cell_type": "code",
   "execution_count": 14,
   "metadata": {},
   "outputs": [
    {
     "name": "stdout",
     "output_type": "stream",
     "text": [
      "[[], [4], [5], [4, 5], [6], [4, 6], [5, 6], [4, 5, 6]]\n",
      "[[], [5], [6], [5, 6], [7], [5, 7], [6, 7], [5, 6, 7], [7], [5, 7], [6, 7], [5, 6, 7], [7, 7], [5, 7, 7], [6, 7, 7], [5, 6, 7, 7], [89], [5, 89], [6, 89], [5, 6, 89], [7, 89], [5, 7, 89], [6, 7, 89], [5, 6, 7, 89], [7, 89], [5, 7, 89], [6, 7, 89], [5, 6, 7, 89], [7, 7, 89], [5, 7, 7, 89], [6, 7, 7, 89], [5, 6, 7, 7, 89]]\n"
     ]
    }
   ],
   "source": [
    "# an alogrithm to provide the subsets of sets\n",
    "# a = [3,4,5] \n",
    "# subsets = [], [3], [4], [5], [3, 4], [4, 5], [3, 5], [3, 4, 5]\n",
    "\n",
    "# this has a very neat trick using the bits manipulation\n",
    "\n",
    "# number of subsets is pow(2, n)\n",
    "# number of proper subsets is pow(2, n) -1\n",
    "\n",
    "# if we have a 3 characters to choose from then we take 3 bits to represent the sibset\n",
    "\n",
    "# 000 --> empty set {}\n",
    "# 001 --> set with value 5 {5}\n",
    "# 010 --> set with vaue {4}\n",
    "# 011 --> set with value {4, 5}\n",
    "# 100 --> set with value { 3}\n",
    "# 101 --> set {3, 5}\n",
    "# 110 --> set{ 3, 4}\n",
    "# 111 --> set {3, 4, 5}\n",
    "\n",
    "def subset(alist):\n",
    "    #lenht\n",
    "    #total subsets\n",
    "    result = []\n",
    "    total_subsets = pow(2, len(alist))\n",
    "    total_words = len(alist)\n",
    "    for i in range(total_subsets):\n",
    "        s = []\n",
    "        for j in range(total_words):\n",
    "            # we check every bit in i by anding with 1 << shifted to jth position\n",
    "            if (i & (1 << j)):\n",
    "                s.append(alist[j])\n",
    "        result.append(s)\n",
    "    return result\n",
    "                \n",
    "        \n",
    "\n",
    "        \n",
    "def more_fancy(alist):\n",
    "    result = []\n",
    "    for i in range(1 << len(alist)):\n",
    "        s = []\n",
    "        for j in range(len(alist)):\n",
    "            if ( i & (1 << j)):\n",
    "                s.append(alist[j])\n",
    "        result.append(s)\n",
    "    return result\n",
    "\n",
    "\n",
    "                \n",
    "        \n",
    "def main():\n",
    "    alist = [4,5,6,]\n",
    "    result =more_fancy(alist)\n",
    "    print(result)\n",
    "    blist = [5,6,7,7,89]\n",
    "    print(more_fancy(blist))\n",
    "main()\n"
   ]
  },
  {
   "cell_type": "code",
   "execution_count": 20,
   "metadata": {},
   "outputs": [
    {
     "name": "stdout",
     "output_type": "stream",
     "text": [
      "[Node([]), Node([6]), Node([5]), Node([5, 6]), Node([4]), Node([4, 6]), Node([4, 5]), Node([4, 5, 6])]\n"
     ]
    }
   ],
   "source": [
    "# same subset problem using the tree ds\n",
    "\n",
    "class Node:\n",
    "    \n",
    "    def __init__(self, value=[], left=None, right=None):\n",
    "        self.value = list(value)\n",
    "        self.left = left\n",
    "        self.right = right\n",
    "        self.has_children = False\n",
    "    \n",
    "    def add_value(self, value):\n",
    "        # check to see if there is only\n",
    "        if not self.has_children:\n",
    "            # that means we need to add the value here\n",
    "            self.left = Node(list(self.value))\n",
    "            new_list = list(self.value)\n",
    "            new_list.append(value)\n",
    "            self.right = Node(new_list)\n",
    "            self.has_children = True\n",
    "        else:\n",
    "            self.left.add_value(value)\n",
    "            self.right.add_value(value)\n",
    "            \n",
    "    \n",
    "    def __repr__(self):\n",
    "        return 'Node({})'.format(self.value)\n",
    "\n",
    "def traverse_leafs(n, required_depth, current_depth=0):\n",
    "    if n:\n",
    "        if current_depth == required_depth:\n",
    "            yield n\n",
    "        yield from traverse_leafs(n.left, required_depth, current_depth + 1)\n",
    "        yield from traverse_leafs(n.right, required_depth, current_depth + 1)\n",
    "\n",
    "def subset(alist):\n",
    "    n = Node()\n",
    "    for item in alist:\n",
    "        n.add_value(item)\n",
    "    return list(traverse_leafs(n, required_depth=len(alist)))\n",
    "\n",
    "\n",
    "def main():\n",
    "    alist = [4,5,6]\n",
    "    result = subset(alist)\n",
    "    print(result)\n",
    "\n",
    "main()\n"
   ]
  },
  {
   "cell_type": "code",
   "execution_count": 38,
   "metadata": {},
   "outputs": [
    {
     "name": "stdout",
     "output_type": "stream",
     "text": [
      "[4, 2, 6, 4, 7, 5, 3]\n"
     ]
    }
   ],
   "source": [
    "# reorder the array / shuffle the array in place in O(n) and without creating a new array\n",
    "import math\n",
    "import random\n",
    "def shuffle(alist):\n",
    "    # take the random number from 0 to len of alist and \n",
    "    for index, value in enumerate(alist):\n",
    "        # each time get the random index between index and len and insert into that index\n",
    "        random_index = math.floor(random.random() * (len(alist) - index) + index)\n",
    "        alist[index], alist[random_index] = alist[random_index], alist[index]\n",
    "        \n",
    "\n",
    "def main():\n",
    "    alist = [4,5,6,7, 4, 3, 2]\n",
    "    shuffle(alist)\n",
    "    print(alist)\n",
    "main()\n",
    "\n",
    "        "
   ]
  },
  {
   "cell_type": "code",
   "execution_count": 54,
   "metadata": {},
   "outputs": [
    {
     "name": "stdout",
     "output_type": "stream",
     "text": [
      "1 0\n",
      "2 1\n",
      "3 2\n",
      "4 3\n",
      "5 4\n",
      "1 5\n",
      "2 5\n",
      "3 5\n",
      "1 5\n",
      "2 5\n",
      "3 5\n",
      "1 5\n",
      "2 5\n",
      "3 5\n",
      "4 5\n",
      "1 5\n"
     ]
    },
    {
     "data": {
      "text/plain": [
       "('A', 5)"
      ]
     },
     "execution_count": 54,
     "metadata": {},
     "output_type": "execute_result"
    }
   ],
   "source": [
    "# longest consecutive character\n",
    "\n",
    "a = 'AAAAABBBCCCDDDDW'\n",
    "\n",
    "# here the longest consecutive character is D, since it repeats 4 times\n",
    "\n",
    "# keep track of longest_character, current_character\n",
    "\n",
    "def longest_con(astring):\n",
    "    current_index = 0\n",
    "    current_count = 0\n",
    "    \n",
    "    current_char = None\n",
    "    prev_char = None\n",
    "    \n",
    "    longest_char = None\n",
    "    longest_count = 0\n",
    "    while current_index < len(astring):\n",
    "        current_char = astring[current_index]\n",
    "        # print(current_char, prev_char)\n",
    "        \n",
    "        if current_index > 0:\n",
    "            prev_char = astring[current_index - 1]\n",
    "        \n",
    "        if current_char == prev_char:\n",
    "            # that means we keep on count\n",
    "            current_count += 1\n",
    "        else:\n",
    "            current_count = 1\n",
    "            \n",
    "        \n",
    "        current_index += 1\n",
    "        \n",
    "        # now check if we have beaten the previus longest\n",
    "        print(current_count, longest_count)\n",
    "        if longest_count <= current_count:\n",
    "            longest_count = current_count\n",
    "            longest_char = current_char\n",
    "            \n",
    "        \n",
    "    return longest_char, longest_count\n",
    "\n",
    "longest_con(a)"
   ]
  },
  {
   "cell_type": "markdown",
   "metadata": {},
   "source": [
    "# Tower hopping Problem\n"
   ]
  },
  {
   "cell_type": "code",
   "execution_count": 62,
   "metadata": {},
   "outputs": [
    {
     "name": "stdout",
     "output_type": "stream",
     "text": [
      "[1, 3]\n"
     ]
    }
   ],
   "source": [
    "# coding: utf-8\n",
    "from collections import defaultdict\n",
    "class Data:\n",
    "    def __init__(self):\n",
    "        self.data = set()\n",
    "        self.value = None\n",
    "    def __repr__(self):\n",
    "        return '({}, {})'.format(self.data, self.value)\n",
    "\n",
    "def create_graph(alist):\n",
    "    a = defaultdict(Data)\n",
    "    for index, item in enumerate(alist):\n",
    "        a[index].value = item\n",
    "        for i in range(index+1, item + index+1):\n",
    "            if i >= len(alist):\n",
    "                a[index].data.add('END')\n",
    "            else:\n",
    "                a[index].data.add(i)\n",
    "    return a\n",
    "# coding: utf-8\n",
    "def find_path(g):\n",
    "    \n",
    "    for key in g.keys():\n",
    "        paths = []\n",
    "        \n",
    "        current_key = key\n",
    "        paths.append(current_key)\n",
    "        while True:\n",
    "            if not g[current_key].data:\n",
    "                break\n",
    "            if \"END\" in g[current_key].data:\n",
    "                return paths\n",
    "            new_key = max(g[current_key].data)\n",
    "            g[current_key].data.remove(new_key)\n",
    "            paths.append(new_key)\n",
    "            \n",
    "            current_key = new_key\n",
    "           \n",
    "\n",
    "def main():\n",
    "    alist = [4, 2, 0, 3, 1, 0]\n",
    "    graph = create_graph(alist)\n",
    "    result = find_path(graph)\n",
    "    print(result)\n",
    "\n",
    "main()\n"
   ]
  }
 ],
 "metadata": {
  "kernelspec": {
   "display_name": "Python 3",
   "language": "python",
   "name": "python3"
  },
  "language_info": {
   "codemirror_mode": {
    "name": "ipython",
    "version": 3
   },
   "file_extension": ".py",
   "mimetype": "text/x-python",
   "name": "python",
   "nbconvert_exporter": "python",
   "pygments_lexer": "ipython3",
   "version": "3.6.3"
  }
 },
 "nbformat": 4,
 "nbformat_minor": 2
}
