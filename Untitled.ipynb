{
 "cells": [
  {
   "cell_type": "code",
   "execution_count": 6,
   "metadata": {},
   "outputs": [
    {
     "name": "stdout",
     "output_type": "stream",
     "text": [
      "Total negative numner  4\n"
     ]
    }
   ],
   "source": [
    "# a simple algorithm to count the negative numbers in rows and columns\n",
    "# wise sorted matrix\n",
    "# Big O(m + n)\n",
    "\n",
    "mat = [\n",
    "    [-3, -2, 3],\n",
    "    [-1, 2, 2],\n",
    "    [-1, 1, 1]\n",
    "]\n",
    "\n",
    "def count_negative_numbers(mat, rows, cols):\n",
    "    # since it is sorted on both side\n",
    "    # we can do it in O(m +n )\n",
    "    # m number of rows and n being the number of columns\n",
    "    \n",
    "    count = 0\n",
    "    # start with the first row and last column because this is \n",
    "    # highest number in the matrix\n",
    "    current_row = 0\n",
    "    current_col = cols - 1\n",
    "    while current_row <= rows -1 and current_col >= 0:\n",
    "        #take the number\n",
    "        number = mat[current_row][current_col]\n",
    "        \n",
    "        if number < 0:\n",
    "            #that means it is a negative number\n",
    "            count += (current_col + 1)\n",
    "            current_row += 1 # m time\n",
    "        else:\n",
    "            current_col -= 1 # n times\n",
    "    return count\n",
    "\n",
    "\n",
    "\n",
    "def main():\n",
    "    result = count_negative_numbers(mat, 3, 3)\n",
    "    print('Total negative numner ', result)\n",
    "\n",
    "main()\n"
   ]
  },
  {
   "cell_type": "code",
   "execution_count": 13,
   "metadata": {},
   "outputs": [
    {
     "name": "stdout",
     "output_type": "stream",
     "text": [
      "[[], [4], [5], [4, 5], [6], [4, 6], [5, 6], [4, 5, 6]]\n"
     ]
    }
   ],
   "source": [
    "# an alogrithm to provide the subsets of sets\n",
    "# a = [3,4,5] \n",
    "# subsets = [], [3], [4], [5], [3, 4], [4, 5], [3, 5], [3, 4, 5]\n",
    "\n",
    "# this has a very neat trick using the bits manipulation\n",
    "\n",
    "# number of subsets is pow(2, n)\n",
    "# number of proper subsets is pow(2, n) -1\n",
    "\n",
    "# if we have a 3 characters to choose from then we take 3 bits to represent the sibset\n",
    "\n",
    "# 000 --> empty set {}\n",
    "# 001 --> set with value 5 {5}\n",
    "# 010 --> set with vaue {4}\n",
    "# 011 --> set with value {4, 5}\n",
    "# 100 --> set with value { 3}\n",
    "# 101 --> set {3, 5}\n",
    "# 110 --> set{ 3, 4}\n",
    "# 111 --> set {3, 4, 5}\n",
    "\n",
    "def subset(alist):\n",
    "    #lenht\n",
    "    #total subsets\n",
    "    result = []\n",
    "    total_subsets = pow(2, len(alist))\n",
    "    total_words = len(alist)\n",
    "    for i in range(total_subsets):\n",
    "        s = []\n",
    "        for j in range(total_words):\n",
    "            # we check every bit in i by anding with 1 << shifted to jth position\n",
    "            if (i & (1 << j)):\n",
    "                s.append(alist[j])\n",
    "        result.append(s)\n",
    "    return result\n",
    "                \n",
    "        \n",
    "\n",
    "        \n",
    "def more_fancy(alist):\n",
    "    result = []\n",
    "    for i in range(1 << len(alist)):\n",
    "        s = []\n",
    "        for j in range(len(alist)):\n",
    "            if ( i & (1 << j)):\n",
    "                s.append(alist[j])\n",
    "        result.append(s)\n",
    "    return result\n",
    "\n",
    "\n",
    "                \n",
    "        \n",
    "def main():\n",
    "    alist = [4,5,6,]\n",
    "    result =more_fancy(alist)\n",
    "    print(result)\n",
    "    blist = [5,6,7,7,89]\n",
    "    r\n",
    "main()\n"
   ]
  }
 ],
 "metadata": {
  "kernelspec": {
   "display_name": "Python 3",
   "language": "python",
   "name": "python3"
  },
  "language_info": {
   "codemirror_mode": {
    "name": "ipython",
    "version": 3
   },
   "file_extension": ".py",
   "mimetype": "text/x-python",
   "name": "python",
   "nbconvert_exporter": "python",
   "pygments_lexer": "ipython3",
   "version": "3.6.3"
  }
 },
 "nbformat": 4,
 "nbformat_minor": 2
}
